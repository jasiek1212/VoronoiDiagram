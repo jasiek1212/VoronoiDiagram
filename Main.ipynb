{
 "cells": [
  {
   "cell_type": "code",
   "execution_count": null,
   "metadata": {},
   "outputs": [],
   "source": [
    "from classes import *\n",
    "\n",
    "def VoronoiDiagram(points : list(Point)):\n",
    "    del_tri = Delaunay_Triangulation(points)\n",
    "    for point in points:\n",
    "        curr_triangle = del_tri.find_triangle(point)\n",
    "        neighbourhood, hull = del_tri.find_neighbourhood(point, curr_triangle,{})\n",
    "        del_tri.delete_neighbourhood(neighbourhood)\n",
    "        del_tri.rebuild_neighbourhood(point,hull)\n",
    "    return del_tri.neighbours\n"
   ]
  },
  {
   "cell_type": "markdown",
   "metadata": {},
   "source": []
  }
 ],
 "metadata": {
  "kernelspec": {
   "display_name": "bit-alg",
   "language": "python",
   "name": "python3"
  },
  "language_info": {
   "name": "python",
   "version": "3.11.7"
  }
 },
 "nbformat": 4,
 "nbformat_minor": 2
}
