{
 "cells": [
  {
   "cell_type": "code",
   "execution_count": 6,
   "metadata": {},
   "outputs": [],
   "source": [
    "from delaunay import *\n",
    "\n",
    "def VoronoiDiagram(points : list[Point]):\n",
    "    del_tri = DelaunayTriangulation(points)\n",
    "    for point in points:\n",
    "        curr_triangle = del_tri.find_triangle(point)\n",
    "        neighbourhood, hull = del_tri.find_neighbourhood(point, curr_triangle,{})\n",
    "        del_tri.delete_neighbourhood(neighbourhood)\n",
    "        del_tri.rebuild_neighbourhood(point,hull)\n",
    "    return del_tri.neighbours, del_tri.triangulation\n"
   ]
  },
  {
   "cell_type": "markdown",
   "metadata": {},
   "source": []
  }
 ],
 "metadata": {
  "kernelspec": {
   "display_name": "bit-alg",
   "language": "python",
   "name": "python3"
  },
  "language_info": {
   "codemirror_mode": {
    "name": "ipython",
    "version": 3
   },
   "file_extension": ".py",
   "mimetype": "text/x-python",
   "name": "python",
   "nbconvert_exporter": "python",
   "pygments_lexer": "ipython3",
   "version": "3.9.18"
  }
 },
 "nbformat": 4,
 "nbformat_minor": 2
}
