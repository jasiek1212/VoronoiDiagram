{
 "cells": [
  {
   "cell_type": "code",
   "execution_count": 18,
   "metadata": {},
   "outputs": [
    {
     "ename": "TypeError",
     "evalue": "'Point' object is not iterable",
     "output_type": "error",
     "traceback": [
      "\u001b[1;31m---------------------------------------------------------------------------\u001b[0m",
      "\u001b[1;31mTypeError\u001b[0m                                 Traceback (most recent call last)",
      "Cell \u001b[1;32mIn[18], line 31\u001b[0m\n\u001b[0;32m     29\u001b[0m t1 \u001b[38;5;241m=\u001b[39m Triangle(Point(\u001b[38;5;241m1\u001b[39m,\u001b[38;5;241m1\u001b[39m),Point(\u001b[38;5;241m2\u001b[39m,\u001b[38;5;241m2\u001b[39m),Point(\u001b[38;5;241m3\u001b[39m,\u001b[38;5;241m3\u001b[39m))\n\u001b[0;32m     30\u001b[0m t2 \u001b[38;5;241m=\u001b[39m Triangle(Point(\u001b[38;5;241m3\u001b[39m,\u001b[38;5;241m3\u001b[39m),Point(\u001b[38;5;241m1\u001b[39m,\u001b[38;5;241m1\u001b[39m),Point(\u001b[38;5;241m2\u001b[39m,\u001b[38;5;241m2\u001b[39m))\n\u001b[1;32m---> 31\u001b[0m \u001b[38;5;28mprint\u001b[39m(\u001b[43mt1\u001b[49m\u001b[43m \u001b[49m\u001b[38;5;241;43m==\u001b[39;49m\u001b[43m \u001b[49m\u001b[43mt2\u001b[49m)\n",
      "File \u001b[1;32mc:\\Users\\janek\\OneDrive\\Dokumenty\\Algorytmy-Geometryczne\\Projekt\\VoronoiDiagram\\classes.py:22\u001b[0m, in \u001b[0;36mTriangle.__eq__\u001b[1;34m(self, other)\u001b[0m\n\u001b[0;32m     19\u001b[0m \u001b[38;5;28;01mif\u001b[39;00m(\u001b[38;5;28misinstance\u001b[39m(other,Triangle)):\n\u001b[0;32m     20\u001b[0m     \u001b[38;5;66;03m#points might be in different order\u001b[39;00m\n\u001b[0;32m     21\u001b[0m     temp \u001b[38;5;241m=\u001b[39m {}\n\u001b[1;32m---> 22\u001b[0m     \u001b[43mtemp\u001b[49m\u001b[38;5;241;43m.\u001b[39;49m\u001b[43mupdate\u001b[49m\u001b[43m(\u001b[49m\u001b[38;5;28;43mself\u001b[39;49m\u001b[38;5;241;43m.\u001b[39;49m\u001b[43ma\u001b[49m\u001b[43m)\u001b[49m\n\u001b[0;32m     23\u001b[0m     temp\u001b[38;5;241m.\u001b[39mupdate(\u001b[38;5;28mself\u001b[39m\u001b[38;5;241m.\u001b[39mb)\n\u001b[0;32m     24\u001b[0m     temp\u001b[38;5;241m.\u001b[39mupdate(\u001b[38;5;28mself\u001b[39m\u001b[38;5;241m.\u001b[39mc)\n",
      "\u001b[1;31mTypeError\u001b[0m: 'Point' object is not iterable"
     ]
    }
   ],
   "source": [
    "from classes import *\n",
    "from visualizer.main import Visualizer\n",
    "from random import uniform\n",
    "\n",
    "def gen_point(point1 : Point, point2 : Point) -> Point:\n",
    "    new = Point(uniform(0,100),uniform(0,100))\n",
    "    while orientation(point1,point2,new) == 1: \n",
    "        new = Point(uniform(0,100),uniform(0,100))\n",
    "    return new\n",
    "\n",
    "def get(p : Point):\n",
    "    return (p.x,p.y)\n",
    "\n",
    "# p1, p2 = Point(10,10), Point(15,45)\n",
    "# new = gen_point(p1,p2)\n",
    "# vis = Visualizer()\n",
    "# vis.add_point([get(p1),get(p2),get(new)])\n",
    "# vis.show()\n",
    "\n",
    "def gen_points(n : int) -> List[Point]:\n",
    "    list = []\n",
    "    for i in range(n):\n",
    "        list.append(Point(uniform(0,100),uniform(0,100)))\n",
    "    return list\n",
    "\n",
    "def main_test(n : int):\n",
    "    tri = Delaunay_Triangulation(gen_points(n))\n",
    "\n",
    "t1 = Triangle(Point(1,1),Point(2,2),Point(3,3))\n",
    "t2 = Triangle(Point(3,3),Point(1,1),Point(2,2))\n",
    "print(t1 == t2)"
   ]
  }
 ],
 "metadata": {
  "kernelspec": {
   "display_name": "Python 3",
   "language": "python",
   "name": "python3"
  },
  "language_info": {
   "codemirror_mode": {
    "name": "ipython",
    "version": 3
   },
   "file_extension": ".py",
   "mimetype": "text/x-python",
   "name": "python",
   "nbconvert_exporter": "python",
   "pygments_lexer": "ipython3",
   "version": "3.11.7"
  }
 },
 "nbformat": 4,
 "nbformat_minor": 2
}
